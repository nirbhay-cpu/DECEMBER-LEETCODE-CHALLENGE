{
 "cells": [
  {
   "cell_type": "code",
   "execution_count": null,
   "metadata": {},
   "outputs": [],
   "source": [
    "QUESTION-\n",
    "\n",
    "An encoded string S is given.  To find and write the decoded string to a tape, the encoded string is read one character at a time and the following steps are taken:\n",
    "\n",
    "If the character read is a letter, that letter is written onto the tape.\n",
    "If the character read is a digit (say d), the entire current tape is repeatedly written d-1 more times in total.\n",
    "Now for some encoded string S, and an index K, find and return the K-th letter (1 indexed) in the decoded string.\n",
    "\n",
    " \n",
    "\n",
    "Example 1:\n",
    "\n",
    "Input: S = \"leet2code3\", K = 10\n",
    "Output: \"o\"\n",
    "Explanation: \n",
    "The decoded string is \"leetleetcodeleetleetcodeleetleetcode\".\n",
    "The 10th letter in the string is \"o\".\n",
    "Example 2:\n",
    "\n",
    "Input: S = \"ha22\", K = 5\n",
    "Output: \"h\"\n",
    "Explanation: \n",
    "The decoded string is \"hahahaha\".  The 5th letter is \"h\".\n",
    "Example 3:\n",
    "\n",
    "Input: S = \"a2345678999999999999999\", K = 1\n",
    "Output: \"a\"\n",
    "Explanation: \n",
    "The decoded string is \"a\" repeated 8301530446056247680 times.  The 1st letter is \"a\".\n",
    " \n",
    "\n",
    "Constraints:\n",
    "\n",
    "2 <= S.length <= 100\n",
    "S will only contain lowercase letters and digits 2 through 9.\n",
    "S starts with a letter.\n",
    "1 <= K <= 10^9\n",
    "It's guaranteed that K is less than or equal to the length of the decoded string.\n",
    "The decoded string is guaranteed to have less than 2^63 letters"
   ]
  },
  {
   "cell_type": "code",
   "execution_count": null,
   "metadata": {},
   "outputs": [],
   "source": [
    "class Solution:\n",
    "    def decodeAtIndex(self, S, K):   \n",
    "        A = [1] # length of arrays: \"leet2code3\" -> [1,2,3,4,8,9,10,11,12,36]\n",
    "        for x in S[1:]:\n",
    "            # OPTIONAL: Early Stop (avoid repeating the string beyond the position \"K\")\n",
    "            if A[-1] >= K : break\n",
    "            #\n",
    "            if x.isdigit():\n",
    "                A.append( A[-1]*int(x) )\n",
    "            else:\n",
    "                A.append( A[-1]+1 )\n",
    "        #\n",
    "        for i in reversed(range(len(A))):\n",
    "            K %= A[i]\n",
    "            if not K and S[i].isalpha():\n",
    "                return S[i]"
   ]
  },
  {
   "cell_type": "code",
   "execution_count": null,
   "metadata": {},
   "outputs": [],
   "source": []
  }
 ],
 "metadata": {
  "kernelspec": {
   "display_name": "Python 3",
   "language": "python",
   "name": "python3"
  },
  "language_info": {
   "codemirror_mode": {
    "name": "ipython",
    "version": 3
   },
   "file_extension": ".py",
   "mimetype": "text/x-python",
   "name": "python",
   "nbconvert_exporter": "python",
   "pygments_lexer": "ipython3",
   "version": "3.7.6"
  }
 },
 "nbformat": 4,
 "nbformat_minor": 4
}
