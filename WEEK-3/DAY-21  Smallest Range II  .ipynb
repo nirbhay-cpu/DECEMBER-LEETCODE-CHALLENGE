{
 "cells": [
  {
   "cell_type": "code",
   "execution_count": null,
   "metadata": {},
   "outputs": [],
   "source": [
    "QUESTION-\n",
    "\n",
    "Given an array A of integers, for each integer A[i] we need to choose either x = -K or x = K, and add x to A[i] (only once).\n",
    "\n",
    "After this process, we have some array B.\n",
    "\n",
    "Return the smallest possible difference between the maximum value of B and the minimum value of B.\n",
    "\n",
    " \n",
    "\n",
    "Example 1:\n",
    "\n",
    "Input: A = [1], K = 0\n",
    "Output: 0\n",
    "Explanation: B = [1]\n",
    "Example 2:\n",
    "\n",
    "Input: A = [0,10], K = 2\n",
    "Output: 6\n",
    "Explanation: B = [2,8]\n",
    "Example 3:\n",
    "\n",
    "Input: A = [1,3,6], K = 3\n",
    "Output: 3\n",
    "Explanation: B = [4,6,3]\n",
    " \n",
    "\n",
    "Note:\n",
    "\n",
    "1 <= A.length <= 10000\n",
    "0 <= A[i] <= 10000\n",
    "0 <= K <= 10000"
   ]
  },
  {
   "cell_type": "code",
   "execution_count": null,
   "metadata": {},
   "outputs": [],
   "source": [
    "class Solution:\n",
    "    def smallestRangeII(self, A: List[int], K: int) -> int:\n",
    "        A.sort()\n",
    "        res = A[-1] - A[0]\n",
    "        \n",
    "        for indx in range(0, len(A) - 1):\n",
    "            # assuming that A[indx] is the max val\n",
    "            min_val = min(A[0] + K, A[indx + 1] - K)\n",
    "            max_val = max(A[indx] + K, A[-1] - K)\n",
    "            res = min(res, max_val - min_val)\n",
    "\n",
    "        return res\n",
    "            \n",
    "            \n",
    "        "
   ]
  },
  {
   "cell_type": "code",
   "execution_count": null,
   "metadata": {},
   "outputs": [],
   "source": []
  }
 ],
 "metadata": {
  "kernelspec": {
   "display_name": "Python 3",
   "language": "python",
   "name": "python3"
  },
  "language_info": {
   "codemirror_mode": {
    "name": "ipython",
    "version": 3
   },
   "file_extension": ".py",
   "mimetype": "text/x-python",
   "name": "python",
   "nbconvert_exporter": "python",
   "pygments_lexer": "ipython3",
   "version": "3.7.6"
  }
 },
 "nbformat": 4,
 "nbformat_minor": 4
}
