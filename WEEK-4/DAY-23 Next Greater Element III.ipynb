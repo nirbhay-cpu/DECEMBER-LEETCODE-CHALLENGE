{
 "cells": [
  {
   "cell_type": "code",
   "execution_count": null,
   "metadata": {},
   "outputs": [],
   "source": [
    "QUESTION-\n",
    "\n",
    "Given a positive integer n, find the smallest integer which has exactly the same digits existing in the integer n and is greater in value than n. If no such positive integer exists, return -1.\n",
    "\n",
    "Note that the returned integer should fit in 32-bit integer, if there is a valid answer but it does not fit in 32-bit integer, return -1.\n",
    "\n",
    " \n",
    "\n",
    "Example 1:\n",
    "\n",
    "Input: n = 12\n",
    "Output: 21\n",
    "Example 2:\n",
    "\n",
    "Input: n = 21\n",
    "Output: -1\n",
    " \n",
    "\n",
    "Constraints:\n",
    "\n",
    "1 <= n <= 231 - 1"
   ]
  },
  {
   "cell_type": "code",
   "execution_count": null,
   "metadata": {},
   "outputs": [],
   "source": [
    "class Solution:\n",
    "    def nextGreaterElement(self, n):\n",
    "        digits = list(str(n))\n",
    "        i = len(digits) - 1\n",
    "        while i-1 >= 0 and digits[i] <= digits[i-1]:\n",
    "            i -= 1\n",
    "            \n",
    "        if i == 0: return -1\n",
    "        \n",
    "        j = i\n",
    "        while j+1 < len(digits) and digits[j+1] > digits[i-1]:\n",
    "            j += 1\n",
    "        \n",
    "        digits[i-1], digits[j] = digits[j], digits[i-1]\n",
    "        digits[i:] = digits[i:][::-1]\n",
    "        ret = int(''.join(digits))\n",
    "        \n",
    "        return ret if ret < 1<<31 else -1"
   ]
  },
  {
   "cell_type": "code",
   "execution_count": null,
   "metadata": {},
   "outputs": [],
   "source": []
  }
 ],
 "metadata": {
  "kernelspec": {
   "display_name": "Python 3",
   "language": "python",
   "name": "python3"
  },
  "language_info": {
   "codemirror_mode": {
    "name": "ipython",
    "version": 3
   },
   "file_extension": ".py",
   "mimetype": "text/x-python",
   "name": "python",
   "nbconvert_exporter": "python",
   "pygments_lexer": "ipython3",
   "version": "3.7.6"
  }
 },
 "nbformat": 4,
 "nbformat_minor": 4
}
