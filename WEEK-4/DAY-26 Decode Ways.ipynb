{
 "cells": [
  {
   "cell_type": "code",
   "execution_count": null,
   "metadata": {},
   "outputs": [],
   "source": [
    "QUESTION-\n",
    "\n",
    "A message containing letters from A-Z can be encoded into numbers using the following mapping:\n",
    "\n",
    "'A' -> \"1\"\n",
    "'B' -> \"2\"\n",
    "...\n",
    "'Z' -> \"26\"\n",
    "To decode an encoded message, all the digits must be mapped back into letters using the reverse of the mapping above (there may be multiple ways). For example, \"111\" can have each of its \"1\"s be mapped into 'A's to make \"AAA\", or it could be mapped to \"11\" and \"1\" ('K' and 'A' respectively) to make \"KA\". Note that \"06\" cannot be mapped into 'F' since \"6\" is different from \"06\".\n",
    "\n",
    "Given a non-empty string num containing only digits, return the number of ways to decode it.\n",
    "\n",
    "The answer is guaranteed to fit in a 32-bit integer.\n",
    "\n",
    " \n",
    "\n",
    "Example 1:\n",
    "\n",
    "Input: s = \"12\"\n",
    "Output: 2\n",
    "Explanation: \"12\" could be decoded as \"AB\" (1 2) or \"L\" (12).\n",
    "Example 2:\n",
    "\n",
    "Input: s = \"226\"\n",
    "Output: 3\n",
    "Explanation: \"226\" could be decoded as \"BZ\" (2 26), \"VF\" (22 6), or \"BBF\" (2 2 6).\n",
    "Example 3:\n",
    "\n",
    "Input: s = \"0\"\n",
    "Output: 0\n",
    "Explanation: There is no character that is mapped to a number starting with 0. The only valid mappings with 0 are 'J' -> \"10\" and 'T' -> \"20\".\n",
    "Since there is no character, there are no valid ways to decode this since all digits need to be mapped.\n",
    "Example 4:\n",
    "\n",
    "Input: s = \"1\"\n",
    "Output: 1\n",
    " \n",
    "\n",
    "Constraints:\n",
    "\n",
    "1 <= s.length <= 100\n",
    "s contains only digits and may contain leading zero(s)."
   ]
  },
  {
   "cell_type": "code",
   "execution_count": null,
   "metadata": {},
   "outputs": [],
   "source": [
    "class Solution:\n",
    "    def numDecodings(self, s):\n",
    "        dp = [1, 0, 0]\n",
    "        for c in s:\n",
    "            dp_new = [0,0,0]\n",
    "            dp_new[0]  = (c > '0') * dp[0] + dp[1] + (c <= '6') * dp[2]\n",
    "            dp_new[1]  = (c == '1') * dp[0]\n",
    "            dp_new[2]  = (c == '2') * dp[0]\n",
    "            dp = dp_new\n",
    "        return dp[0]"
   ]
  },
  {
   "cell_type": "code",
   "execution_count": null,
   "metadata": {},
   "outputs": [],
   "source": []
  }
 ],
 "metadata": {
  "kernelspec": {
   "display_name": "Python 3",
   "language": "python",
   "name": "python3"
  },
  "language_info": {
   "codemirror_mode": {
    "name": "ipython",
    "version": 3
   },
   "file_extension": ".py",
   "mimetype": "text/x-python",
   "name": "python",
   "nbconvert_exporter": "python",
   "pygments_lexer": "ipython3",
   "version": "3.7.6"
  }
 },
 "nbformat": 4,
 "nbformat_minor": 4
}
