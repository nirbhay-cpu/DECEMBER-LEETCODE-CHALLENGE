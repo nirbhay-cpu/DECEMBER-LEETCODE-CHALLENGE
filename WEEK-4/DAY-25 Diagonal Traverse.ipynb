{
 "cells": [
  {
   "cell_type": "code",
   "execution_count": null,
   "metadata": {},
   "outputs": [],
   "source": [
    "QUESTION-\n",
    "\n",
    "Given a matrix of M x N elements (M rows, N columns), return all elements of the matrix in diagonal order as shown in the below image.\n",
    "\n",
    " \n",
    "\n",
    "Example:\n",
    "\n",
    "Input:\n",
    "[\n",
    " [ 1, 2, 3 ],\n",
    " [ 4, 5, 6 ],\n",
    " [ 7, 8, 9 ]\n",
    "]\n",
    "\n",
    "Output:  [1,2,4,7,5,3,6,8,9]\n",
    "\n",
    "Explanation:\n",
    "\n",
    " \n",
    "\n",
    "Note:\n",
    "\n",
    "The total number of elements of the given matrix will not exceed 10,000."
   ]
  },
  {
   "cell_type": "code",
   "execution_count": null,
   "metadata": {},
   "outputs": [],
   "source": [
    "class Solution:\n",
    "    \n",
    "    def findDiagonalOrder(self, matrix: List[List[int]]) -> List[int]:\n",
    "        \n",
    "        # Check for empty matrices\n",
    "        if not matrix or not matrix[0]:\n",
    "            return []\n",
    "        \n",
    "        # Variables to track the size of the matrix\n",
    "        N, M = len(matrix), len(matrix[0])\n",
    "        \n",
    "        # The two arrays as explained in the algorithm\n",
    "        result, intermediate = [], []\n",
    "        \n",
    "        # We have to go over all the elements in the first\n",
    "        # row and the last column to cover all possible diagonals\n",
    "        for d in range(N + M - 1):\n",
    "            \n",
    "            # Clear the intermediate array everytime we start\n",
    "            # to process another diagonal\n",
    "            intermediate.clear()\n",
    "            \n",
    "            # We need to figure out the \"head\" of this diagonal\n",
    "            # The elements in the first row and the last column\n",
    "            # are the respective heads.\n",
    "            r, c = 0 if d < M else d - M + 1, d if d < M else M - 1\n",
    "            \n",
    "            # Iterate until one of the indices goes out of scope\n",
    "            # Take note of the index math to go down the diagonal\n",
    "            while r < N and c > -1:\n",
    "                intermediate.append(matrix[r][c])\n",
    "                r += 1\n",
    "                c -= 1\n",
    "            \n",
    "            # Reverse even numbered diagonals. The\n",
    "            # article says we have to reverse odd \n",
    "            # numbered articles but here, the numbering\n",
    "            # is starting from 0 :P\n",
    "            if d % 2 == 0:\n",
    "                result.extend(intermediate[::-1])\n",
    "            else:\n",
    "                result.extend(intermediate)\n",
    "        return result        "
   ]
  },
  {
   "cell_type": "code",
   "execution_count": null,
   "metadata": {},
   "outputs": [],
   "source": []
  }
 ],
 "metadata": {
  "kernelspec": {
   "display_name": "Python 3",
   "language": "python",
   "name": "python3"
  },
  "language_info": {
   "codemirror_mode": {
    "name": "ipython",
    "version": 3
   },
   "file_extension": ".py",
   "mimetype": "text/x-python",
   "name": "python",
   "nbconvert_exporter": "python",
   "pygments_lexer": "ipython3",
   "version": "3.7.6"
  }
 },
 "nbformat": 4,
 "nbformat_minor": 4
}
