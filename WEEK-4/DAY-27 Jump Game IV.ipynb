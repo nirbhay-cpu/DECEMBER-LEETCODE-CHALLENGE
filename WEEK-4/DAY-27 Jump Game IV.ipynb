{
 "cells": [
  {
   "cell_type": "code",
   "execution_count": null,
   "metadata": {},
   "outputs": [],
   "source": [
    "QUESTION-\n",
    "\n",
    "Given an array of integers arr, you are initially positioned at the first index of the array.\n",
    "\n",
    "In one step you can jump from index i to index:\n",
    "\n",
    "i + 1 where: i + 1 < arr.length.\n",
    "i - 1 where: i - 1 >= 0.\n",
    "j where: arr[i] == arr[j] and i != j.\n",
    "Return the minimum number of steps to reach the last index of the array.\n",
    "\n",
    "Notice that you can not jump outside of the array at any time.\n",
    "\n",
    " \n",
    "\n",
    "Example 1:\n",
    "\n",
    "Input: arr = [100,-23,-23,404,100,23,23,23,3,404]\n",
    "Output: 3\n",
    "Explanation: You need three jumps from index 0 --> 4 --> 3 --> 9. Note that index 9 is the last index of the array.\n",
    "Example 2:\n",
    "\n",
    "Input: arr = [7]\n",
    "Output: 0\n",
    "Explanation: Start index is the last index. You don't need to jump.\n",
    "Example 3:\n",
    "\n",
    "Input: arr = [7,6,9,6,9,6,9,7]\n",
    "Output: 1\n",
    "Explanation: You can jump directly from index 0 to index 7 which is last index of the array.\n",
    "Example 4:\n",
    "\n",
    "Input: arr = [6,1,9]\n",
    "Output: 2\n",
    "Example 5:\n",
    "\n",
    "Input: arr = [11,22,7,7,7,7,7,7,7,22,13]\n",
    "Output: 3\n",
    " \n",
    "\n",
    "Constraints:\n",
    "\n",
    "1 <= arr.length <= 5 * 104\n",
    "-108 <= arr[i] <= 108"
   ]
  },
  {
   "cell_type": "code",
   "execution_count": null,
   "metadata": {},
   "outputs": [],
   "source": [
    "class Solution:\n",
    "    def minJumps(self, arr: List[int]) -> int:\n",
    "        maps = collections.defaultdict(list)\n",
    "        [maps[a].append(i) for i, a in enumerate(arr)]\n",
    " \n",
    "        begins = set([0])\n",
    "        ends = set([len(arr) - 1])\n",
    "        visitedIdx = set([-1, len(arr)])\n",
    "        for steps in range(len(arr)):\n",
    "            if len(begins) > len(ends):\n",
    "                begins, ends = ends, begins\n",
    "            nextLevels = set()\n",
    "            for b in begins:\n",
    "                if b in ends:\n",
    "                    return steps\n",
    "                if b in visitedIdx:\n",
    "                    continue\n",
    "                visitedIdx.add(b)\n",
    "                nextLevels.update([b - 1, b + 1] + maps[arr[b]])\n",
    "                maps.pop(arr[b], None)\n",
    "            begins = nextLevels"
   ]
  },
  {
   "cell_type": "code",
   "execution_count": null,
   "metadata": {},
   "outputs": [],
   "source": []
  }
 ],
 "metadata": {
  "kernelspec": {
   "display_name": "Python 3",
   "language": "python",
   "name": "python3"
  },
  "language_info": {
   "codemirror_mode": {
    "name": "ipython",
    "version": 3
   },
   "file_extension": ".py",
   "mimetype": "text/x-python",
   "name": "python",
   "nbconvert_exporter": "python",
   "pygments_lexer": "ipython3",
   "version": "3.7.6"
  }
 },
 "nbformat": 4,
 "nbformat_minor": 4
}
