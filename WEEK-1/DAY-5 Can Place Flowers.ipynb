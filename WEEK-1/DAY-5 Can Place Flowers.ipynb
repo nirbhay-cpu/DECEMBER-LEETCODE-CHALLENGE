{
 "cells": [
  {
   "cell_type": "code",
   "execution_count": null,
   "metadata": {},
   "outputs": [],
   "source": [
    "QUESTION-\n",
    "\n",
    "You have a long flowerbed in which some of the plots are planted, and some are not. However, flowers cannot be planted in adjacent plots.\n",
    "\n",
    "Given an integer array flowerbed containing 0's and 1's, where 0 means empty and 1 means not empty, and an integer n, return if n new flowers can be planted in the flowerbed without violating the no-adjacent-flowers rule.\n",
    "\n",
    " \n",
    "\n",
    "Example 1:\n",
    "\n",
    "Input: flowerbed = [1,0,0,0,1], n = 1\n",
    "Output: true\n",
    "Example 2:\n",
    "\n",
    "Input: flowerbed = [1,0,0,0,1], n = 2\n",
    "Output: false\n",
    " \n",
    "\n",
    "Constraints:\n",
    "\n",
    "1 <= flowerbed.length <= 2 * 104\n",
    "flowerbed[i] is 0 or 1.\n",
    "There are no two adjacent flowers in flowerbed.\n",
    "0 <= n <= flowerbed.length"
   ]
  },
  {
   "cell_type": "code",
   "execution_count": null,
   "metadata": {},
   "outputs": [],
   "source": [
    "class Solution:\n",
    "    def canPlaceFlowers(self, A: List[int], n: int) -> bool:\n",
    "        c=0\n",
    "        A=[0]+A+[0]\n",
    "        \n",
    "        for i in range(1,len(A)-1):\n",
    "            if A[i]==1:\n",
    "                continue\n",
    "            if not A[i+1]+A[i-1]:\n",
    "                A[i]=1\n",
    "                c+=1\n",
    "        return c>=n"
   ]
  },
  {
   "cell_type": "code",
   "execution_count": null,
   "metadata": {},
   "outputs": [],
   "source": []
  }
 ],
 "metadata": {
  "kernelspec": {
   "display_name": "Python 3",
   "language": "python",
   "name": "python3"
  },
  "language_info": {
   "codemirror_mode": {
    "name": "ipython",
    "version": 3
   },
   "file_extension": ".py",
   "mimetype": "text/x-python",
   "name": "python",
   "nbconvert_exporter": "python",
   "pygments_lexer": "ipython3",
   "version": "3.7.6"
  }
 },
 "nbformat": 4,
 "nbformat_minor": 4
}
