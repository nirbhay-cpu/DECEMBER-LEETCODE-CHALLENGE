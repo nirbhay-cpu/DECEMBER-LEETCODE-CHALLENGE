{
 "cells": [
  {
   "cell_type": "code",
   "execution_count": null,
   "metadata": {},
   "outputs": [],
   "source": [
    "QUESTION-\n",
    "\n",
    "Given a singly linked list, return a random node's value from the linked list. Each node must have the same probability of being chosen.\n",
    "\n",
    " \n",
    "\n",
    "Example 1:\n",
    "\n",
    "Input\n",
    "[\"Solution\", \"getRandom\", \"getRandom\", \"getRandom\", \"getRandom\", \"getRandom\"]\n",
    "[[[1, 2, 3]], [], [], [], [], []]\n",
    "Output\n",
    "[null, 1, 3, 2, 2, 3]\n",
    "\n",
    "Explanation\n",
    "Solution solution = new Solution([1, 2, 3]);\n",
    "solution.getRandom(); // return 1\n",
    "solution.getRandom(); // return 3\n",
    "solution.getRandom(); // return 2\n",
    "solution.getRandom(); // return 2\n",
    "solution.getRandom(); // return 3\n",
    "// getRandom() should return either 1, 2, or 3 randomly. Each element should have equal probability of returning.\n",
    " \n",
    "\n",
    "Constraints:\n",
    "\n",
    "The number of nodes in the linked list will be in the range [1, 104]\n",
    "-104 <= Node.val <= 104\n",
    "At most 104 calls will be made to getRandom.\n",
    " \n",
    "\n",
    "Follow up:\n",
    "\n",
    "What if the linked list is extremely large and its length is unknown to you?\n",
    "Could you solve this efficiently without using extra space?"
   ]
  },
  {
   "cell_type": "code",
   "execution_count": null,
   "metadata": {},
   "outputs": [],
   "source": [
    "# Definition for singly-linked list.\n",
    "# class ListNode:\n",
    "#     def __init__(self, val=0, next=None):\n",
    "#         self.val = val\n",
    "#         self.next = next\n",
    "import random\n",
    "class Solution:\n",
    "\n",
    "    def __init__(self, head: ListNode):\n",
    "        \"\"\"\n",
    "        @param head The linked list's head.\n",
    "        Note that the head is guaranteed to be not null, so it contains at least one node.\n",
    "        \"\"\"\n",
    "        self.l=[]\n",
    "        a=head\n",
    "        \n",
    "        while a!=None:\n",
    "            self.l.append(a.val)\n",
    "            a=a.next\n",
    "        \n",
    "            \n",
    "        \n",
    "        \n",
    "    def getRandom(self) -> int:\n",
    "        \"\"\"\n",
    "        Returns a random node's value.\n",
    "        \"\"\"\n",
    "        p=int(random.random() * len(self.l))\n",
    "        return self.l[p]\n",
    "\n",
    "\n",
    "# Your Solution object will be instantiated and called as such:\n",
    "# obj = Solution(head)\n",
    "# param_1 = obj.getRandom()"
   ]
  },
  {
   "cell_type": "code",
   "execution_count": null,
   "metadata": {},
   "outputs": [],
   "source": []
  }
 ],
 "metadata": {
  "kernelspec": {
   "display_name": "Python 3",
   "language": "python",
   "name": "python3"
  },
  "language_info": {
   "codemirror_mode": {
    "name": "ipython",
    "version": 3
   },
   "file_extension": ".py",
   "mimetype": "text/x-python",
   "name": "python",
   "nbconvert_exporter": "python",
   "pygments_lexer": "ipython3",
   "version": "3.7.6"
  }
 },
 "nbformat": 4,
 "nbformat_minor": 4
}
