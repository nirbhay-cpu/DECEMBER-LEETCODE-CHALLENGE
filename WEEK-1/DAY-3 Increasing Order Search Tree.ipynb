{
 "cells": [
  {
   "cell_type": "code",
   "execution_count": null,
   "metadata": {},
   "outputs": [],
   "source": [
    "QUESTION-\n",
    "\n",
    "Given the root of a binary search tree, rearrange the tree in in-order so that the leftmost node in the tree is now the root of the tree, and every node has no left child and only one right child.\n",
    "\n",
    " \n",
    "\n",
    "Example 1:\n",
    "\n",
    "\n",
    "Input: root = [5,3,6,2,4,null,8,1,null,null,null,7,9]\n",
    "Output: [1,null,2,null,3,null,4,null,5,null,6,null,7,null,8,null,9]\n",
    "Example 2:\n",
    "\n",
    "\n",
    "Input: root = [5,1,7]\n",
    "Output: [1,null,5,null,7]\n",
    " \n",
    "\n",
    "Constraints:\n",
    "\n",
    "The number of nodes in the given tree will be in the range [1, 100].\n",
    "0 <= Node.val <= 1000"
   ]
  },
  {
   "cell_type": "code",
   "execution_count": null,
   "metadata": {},
   "outputs": [],
   "source": [
    "# Definition for a binary tree node.\n",
    "# class TreeNode:\n",
    "#     def __init__(self, val=0, left=None, right=None):\n",
    "#         self.val = val\n",
    "#         self.left = left\n",
    "#         self.right = right\n",
    "class Solution:\n",
    "    def increasingBST(self, root: TreeNode) -> TreeNode:\n",
    "        if not root:\n",
    "            return\n",
    "        self.l=[]\n",
    "                \n",
    "        def helper(root):\n",
    "            if not root:\n",
    "                return \n",
    "            self.l.append(root.val)\n",
    "            \n",
    "            if root.left:\n",
    "                helper(root.left)\n",
    "            if root.right:\n",
    "                helper(root.right)\n",
    "        \n",
    "        \n",
    "        helper(root)\n",
    "        s=sorted(self.l)\n",
    "        \n",
    "        b=a=TreeNode(s[0])\n",
    "        \n",
    "        for i in range(1,len(s)):\n",
    "            a.right=TreeNode(s[i])\n",
    "            a=a.right\n",
    "            \n",
    "\n",
    "        return b"
   ]
  },
  {
   "cell_type": "code",
   "execution_count": null,
   "metadata": {},
   "outputs": [],
   "source": []
  }
 ],
 "metadata": {
  "kernelspec": {
   "display_name": "Python 3",
   "language": "python",
   "name": "python3"
  },
  "language_info": {
   "codemirror_mode": {
    "name": "ipython",
    "version": 3
   },
   "file_extension": ".py",
   "mimetype": "text/x-python",
   "name": "python",
   "nbconvert_exporter": "python",
   "pygments_lexer": "ipython3",
   "version": "3.7.6"
  }
 },
 "nbformat": 4,
 "nbformat_minor": 4
}
