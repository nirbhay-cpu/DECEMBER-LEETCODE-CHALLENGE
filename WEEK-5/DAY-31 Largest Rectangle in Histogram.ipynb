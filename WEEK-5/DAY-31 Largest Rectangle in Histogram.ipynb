{
 "cells": [
  {
   "cell_type": "code",
   "execution_count": null,
   "metadata": {},
   "outputs": [],
   "source": [
    "QUESTION-\n",
    "\n",
    "Given n non-negative integers representing the histogram's bar height where the width of each bar is 1, find the area of largest rectangle in the histogram.\n",
    "\n",
    " \n",
    "\n",
    "\n",
    "Above is a histogram where width of each bar is 1, given height = [2,1,5,6,2,3].\n",
    "\n",
    " \n",
    "\n",
    "\n",
    "The largest rectangle is shown in the shaded area, which has area = 10 unit.\n",
    "\n",
    " \n",
    "\n",
    "Example:\n",
    "\n",
    "Input: [2,1,5,6,2,3]\n",
    "Output: 10"
   ]
  },
  {
   "cell_type": "code",
   "execution_count": null,
   "metadata": {},
   "outputs": [],
   "source": [
    "class Solution(object):\n",
    "    def largestRectangleArea(self, heights):\n",
    "        \"\"\"\n",
    "        :type heights: List[int]\n",
    "        :rtype: int\n",
    "        \"\"\"\n",
    "        stack = [-1]\n",
    "        heights.append(0)\n",
    "        ans = 0\n",
    "        for i, height in enumerate(heights):\n",
    "            while heights[stack[-1]] > height:\n",
    "                h = heights[stack.pop()] \n",
    "                w = i - stack[-1] - 1\n",
    "                ans = max(ans, h*w)\n",
    "            stack.append(i)\n",
    "        heights.pop()\n",
    "        return ans\n",
    "    "
   ]
  },
  {
   "cell_type": "code",
   "execution_count": null,
   "metadata": {},
   "outputs": [],
   "source": []
  }
 ],
 "metadata": {
  "kernelspec": {
   "display_name": "Python 3",
   "language": "python",
   "name": "python3"
  },
  "language_info": {
   "codemirror_mode": {
    "name": "ipython",
    "version": 3
   },
   "file_extension": ".py",
   "mimetype": "text/x-python",
   "name": "python",
   "nbconvert_exporter": "python",
   "pygments_lexer": "ipython3",
   "version": "3.7.6"
  }
 },
 "nbformat": 4,
 "nbformat_minor": 4
}
