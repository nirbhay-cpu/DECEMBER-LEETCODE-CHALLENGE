{
 "cells": [
  {
   "cell_type": "code",
   "execution_count": null,
   "metadata": {},
   "outputs": [],
   "source": [
    "QUESTION-\n",
    "\n",
    "Given n balloons, indexed from 0 to n-1. Each balloon is painted with a number on it represented by array nums. You are asked to burst all the balloons. If the you burst balloon i you will get nums[left] * nums[i] * nums[right] coins. Here left and right are adjacent indices of i. After the burst, the left and right then becomes adjacent.\n",
    "\n",
    "Find the maximum coins you can collect by bursting the balloons wisely.\n",
    "\n",
    "Note:\n",
    "\n",
    "You may imagine nums[-1] = nums[n] = 1. They are not real therefore you can not burst them.\n",
    "0 ≤ n ≤ 500, 0 ≤ nums[i] ≤ 100\n",
    "Example:\n",
    "\n",
    "Input: [3,1,5,8]\n",
    "Output: 167 \n",
    "Explanation: nums = [3,1,5,8] --> [3,5,8] -->   [3,8]   -->  [8]  --> []\n",
    "             coins =  3*1*5      +  3*5*8    +  1*3*8      + 1*8*1   = 167"
   ]
  },
  {
   "cell_type": "code",
   "execution_count": null,
   "metadata": {},
   "outputs": [],
   "source": [
    "class Solution:\n",
    "    def maxCoins(self, nums: List[int]) -> int:\n",
    "        a = [1]+nums +[1]\n",
    "        \n",
    "        @lru_cache(None)\n",
    "        def dfs(i,j):\n",
    "            return max([a[i]*a[k]*a[j] + dfs(i,k) + dfs(k,j) for k in range(i+1,j)] or [0])\n",
    "        \n",
    "        return dfs(0,len(a)-1)"
   ]
  },
  {
   "cell_type": "code",
   "execution_count": null,
   "metadata": {},
   "outputs": [],
   "source": []
  }
 ],
 "metadata": {
  "kernelspec": {
   "display_name": "Python 3",
   "language": "python",
   "name": "python3"
  },
  "language_info": {
   "codemirror_mode": {
    "name": "ipython",
    "version": 3
   },
   "file_extension": ".py",
   "mimetype": "text/x-python",
   "name": "python",
   "nbconvert_exporter": "python",
   "pygments_lexer": "ipython3",
   "version": "3.7.6"
  }
 },
 "nbformat": 4,
 "nbformat_minor": 4
}
