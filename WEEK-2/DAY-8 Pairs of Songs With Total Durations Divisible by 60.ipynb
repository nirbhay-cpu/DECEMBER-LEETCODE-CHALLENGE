{
 "cells": [
  {
   "cell_type": "code",
   "execution_count": null,
   "metadata": {},
   "outputs": [],
   "source": [
    "QUESTION-\n",
    "\n",
    "You are given a list of songs where the ith song has a duration of time[i] seconds.\n",
    "\n",
    "Return the number of pairs of songs for which their total duration in seconds is divisible by 60. Formally, we want the number of indices i, j such that i < j with (time[i] + time[j]) % 60 == 0.\n",
    "\n",
    " \n",
    "\n",
    "Example 1:\n",
    "\n",
    "Input: time = [30,20,150,100,40]\n",
    "Output: 3\n",
    "Explanation: Three pairs have a total duration divisible by 60:\n",
    "(time[0] = 30, time[2] = 150): total duration 180\n",
    "(time[1] = 20, time[3] = 100): total duration 120\n",
    "(time[1] = 20, time[4] = 40): total duration 60\n",
    "Example 2:\n",
    "\n",
    "Input: time = [60,60,60]\n",
    "Output: 3\n",
    "Explanation: All three pairs have a total duration of 120, which is divisible by 60.\n",
    " \n",
    "\n",
    "Constraints:\n",
    "\n",
    "1 <= time.length <= 6 * 104\n",
    "1 <= time[i] <= 500"
   ]
  },
  {
   "cell_type": "code",
   "execution_count": null,
   "metadata": {},
   "outputs": [],
   "source": [
    "class Solution:\n",
    "    def numPairsDivisibleBy60(self, time: List[int]) -> int:\n",
    "        remainders = collections.defaultdict(int)\n",
    "        ret = 0\n",
    "        for t in time:\n",
    "            if t % 60 == 0: # check if a%60==0 && b%60==0\n",
    "                ret += remainders[0]\n",
    "            else: # check if a%60+b%60==60\n",
    "                ret += remainders[60-t%60]\n",
    "            remainders[t % 60] += 1 # remember to update the remainders\n",
    "        return ret"
   ]
  },
  {
   "cell_type": "code",
   "execution_count": null,
   "metadata": {},
   "outputs": [],
   "source": []
  }
 ],
 "metadata": {
  "kernelspec": {
   "display_name": "Python 3",
   "language": "python",
   "name": "python3"
  },
  "language_info": {
   "codemirror_mode": {
    "name": "ipython",
    "version": 3
   },
   "file_extension": ".py",
   "mimetype": "text/x-python",
   "name": "python",
   "nbconvert_exporter": "python",
   "pygments_lexer": "ipython3",
   "version": "3.7.6"
  }
 },
 "nbformat": 4,
 "nbformat_minor": 4
}
