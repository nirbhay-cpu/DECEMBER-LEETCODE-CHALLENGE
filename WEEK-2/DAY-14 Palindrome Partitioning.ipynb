{
 "cells": [
  {
   "cell_type": "code",
   "execution_count": null,
   "metadata": {},
   "outputs": [],
   "source": [
    "QUESTION-\n",
    "\n",
    "Given a string s, partition s such that every substring of the partition is a palindrome. Return all possible palindrome partitioning of s.\n",
    "\n",
    "A palindrome string is a string that reads the same backward as forward.\n",
    "\n",
    " \n",
    "\n",
    "Example 1:\n",
    "\n",
    "Input: s = \"aab\"\n",
    "Output: [[\"a\",\"a\",\"b\"],[\"aa\",\"b\"]]\n",
    "Example 2:\n",
    "\n",
    "Input: s = \"a\"\n",
    "Output: [[\"a\"]]\n",
    " \n",
    "\n",
    "Constraints:\n",
    "\n",
    "1 <= s.length <= 16\n",
    "s contains only lowercase English letters"
   ]
  },
  {
   "cell_type": "code",
   "execution_count": null,
   "metadata": {},
   "outputs": [],
   "source": [
    "class Solution:\n",
    "    \n",
    "    # -----------------------------------------------------\n",
    "    def dfs(self, s, partition, result):\n",
    "        \n",
    "        if not s:\n",
    "            \n",
    "            ## base case aka stop condition\n",
    "            # add into result when we meet a empty string\n",
    "            result.append( partition[::] )\n",
    "            return\n",
    "        \n",
    "        \n",
    "        ## general cases:\n",
    "        # scan each possible split index\n",
    "        \n",
    "        for i in range(1, len(s)+1):\n",
    "            \n",
    "            prefix, postfix = s[:i], s[i:]\n",
    "            \n",
    "            if self.is_palindrome( prefix ):\n",
    "                \n",
    "                # current prefix is palindrome, keep trying to make more partition in DFS\n",
    "                partition.append( prefix )\n",
    "                self.dfs(postfix, partition, result)\n",
    "                partition.pop()\n",
    "\n",
    "    # -----------------------------------------------------\n",
    "    \n",
    "    def is_palindrome(self, s):\n",
    "        \n",
    "        # helper function to chceck palindrome\n",
    "        return s == s[::-1]\n",
    "    \n",
    "    # -----------------------------------------------------\n",
    "    \n",
    "    def partition(self, s):\n",
    "\n",
    "        # record for solution\n",
    "        result = []\n",
    "\n",
    "        # make palindrome partition in DFS\n",
    "        self.dfs(s, [], result)\n",
    "        return result\n"
   ]
  },
  {
   "cell_type": "code",
   "execution_count": null,
   "metadata": {},
   "outputs": [],
   "source": []
  }
 ],
 "metadata": {
  "kernelspec": {
   "display_name": "Python 3",
   "language": "python",
   "name": "python3"
  },
  "language_info": {
   "codemirror_mode": {
    "name": "ipython",
    "version": 3
   },
   "file_extension": ".py",
   "mimetype": "text/x-python",
   "name": "python",
   "nbconvert_exporter": "python",
   "pygments_lexer": "ipython3",
   "version": "3.7.6"
  }
 },
 "nbformat": 4,
 "nbformat_minor": 4
}
